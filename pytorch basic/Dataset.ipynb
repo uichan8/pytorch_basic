{
 "cells": [
  {
   "cell_type": "code",
   "execution_count": 12,
   "metadata": {},
   "outputs": [],
   "source": [
    "import torch\n",
    "from torch.utils.data import Dataset #하나의 데이터를 어케 가져올것인가\n",
    "from torch.utils.data import DataLoader #Data의 Batch를 생성한다.\n"
   ]
  },
  {
   "cell_type": "code",
   "execution_count": 4,
   "metadata": {},
   "outputs": [],
   "source": [
    "#dataset\n",
    "class CustomData(Dataset):\n",
    "    def __init__(self,data,labels):\n",
    "        self.labels = labels\n",
    "        self.data = data\n",
    "\n",
    "    def __len__(self):\n",
    "        return len(self.labels)\n",
    "\n",
    "    def __getitem__(self, index):\n",
    "        label = self.labels[index]\n",
    "        data = self.data [index]\n",
    "        sample = {\"Data\": data, \"Class\" : label}\n",
    "        return sample"
   ]
  },
  {
   "cell_type": "code",
   "execution_count": 8,
   "metadata": {},
   "outputs": [],
   "source": [
    "data = [\"happy\", \"sad\", \"nice\", \"upset\", \"unhappy\",\"amazing\"]\n",
    "label = [1,0,1,0,0,1]\n",
    "data = CustomData(data, label)"
   ]
  },
  {
   "cell_type": "code",
   "execution_count": 9,
   "metadata": {},
   "outputs": [
    {
     "name": "stdout",
     "output_type": "stream",
     "text": [
      "6\n",
      "{'Data': 'sad', 'Class': 0}\n"
     ]
    }
   ],
   "source": [
    "print(len(data))\n",
    "print(data[1])"
   ]
  },
  {
   "cell_type": "code",
   "execution_count": 36,
   "metadata": {},
   "outputs": [
    {
     "name": "stdout",
     "output_type": "stream",
     "text": [
      "{'Data': ['sad', 'nice', 'amazing', 'unhappy'], 'Class': tensor([0, 1, 1, 0])}\n",
      "{'Data': ['upset', 'happy'], 'Class': tensor([0, 1])}\n"
     ]
    }
   ],
   "source": [
    "#data Loader\n",
    "data_loader = DataLoader(data, batch_size = 4, shuffle = True, sampler = None, drop_last = False, collate_fn = None)\n",
    "for data_set in data_loader:\n",
    "    print(data_set)"
   ]
  },
  {
   "cell_type": "code",
   "execution_count": null,
   "metadata": {},
   "outputs": [],
   "source": []
  }
 ],
 "metadata": {
  "kernelspec": {
   "display_name": "Python 3.8.10 64-bit",
   "language": "python",
   "name": "python3"
  },
  "language_info": {
   "codemirror_mode": {
    "name": "ipython",
    "version": 3
   },
   "file_extension": ".py",
   "mimetype": "text/x-python",
   "name": "python",
   "nbconvert_exporter": "python",
   "pygments_lexer": "ipython3",
   "version": "3.8.10"
  },
  "orig_nbformat": 4,
  "vscode": {
   "interpreter": {
    "hash": "31f2aee4e71d21fbe5cf8b01ff0e069b9275f58929596ceb00d14d90e3e16cd6"
   }
  }
 },
 "nbformat": 4,
 "nbformat_minor": 2
}
