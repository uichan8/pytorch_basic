{
 "cells": [
  {
   "cell_type": "code",
   "execution_count": 1,
   "metadata": {},
   "outputs": [
    {
     "name": "stderr",
     "output_type": "stream",
     "text": [
      "/home/uichan/.local/lib/python3.8/site-packages/tqdm/auto.py:22: TqdmWarning: IProgress not found. Please update jupyter and ipywidgets. See https://ipywidgets.readthedocs.io/en/stable/user_install.html\n",
      "  from .autonotebook import tqdm as notebook_tqdm\n"
     ]
    }
   ],
   "source": [
    "import torch\n",
    "from torchvision.datasets import VisionDataset\n",
    "from torchvision import transforms"
   ]
  },
  {
   "cell_type": "code",
   "execution_count": 2,
   "metadata": {},
   "outputs": [],
   "source": [
    "from skimage.io import imread, imshow\n",
    "import os\n",
    "from tqdm import tqdm"
   ]
  },
  {
   "cell_type": "code",
   "execution_count": 31,
   "metadata": {},
   "outputs": [],
   "source": [
    "#url : http://yaroslavvb.com/upload/notMNIST/notMNIST_large.tar.gz\n",
    "\n",
    "class NotMNIST(VisionDataset):\n",
    "    def __init__(self, root, train = True, transform = None, target_transform = None):\n",
    "        super().__init__(root, transforms = transform, target_transform= target_transform)\n",
    "        self.transform = transform\n",
    "        self.data, self.target = self.load_data(root)\n",
    "\n",
    "    def __len__(self):\n",
    "        return len(self.data)\n",
    "\n",
    "    def __getitem__(self, index):\n",
    "        image_name = self.data[index]\n",
    "        image = imread(image_name)\n",
    "        label = self.target[index]\n",
    "\n",
    "        if self.transform:\n",
    "            image = self.transform(image)\n",
    "        return image, label\n",
    "    \n",
    "    def load_data(self, path):\n",
    "        datas = []\n",
    "        targets = []\n",
    "\n",
    "        for target in tqdm(os.listdir(path)):\n",
    "            file_names = [os.path.abspath(os.path.join(path, target, x)) for x in os.listdir(os.path.join(path, target))]\n",
    "            targets.extend([target] * len(file_names))\n",
    "            datas.extend(file_names)\n",
    "\n",
    "        return datas, targets\n",
    "\n",
    "    "
   ]
  },
  {
   "cell_type": "code",
   "execution_count": 32,
   "metadata": {},
   "outputs": [
    {
     "name": "stderr",
     "output_type": "stream",
     "text": [
      "100%|██████████| 10/10 [00:01<00:00,  7.06it/s]\n"
     ]
    }
   ],
   "source": [
    "data_set = NotMNIST(\"/home/uichan/Desktop/Dataset/notMNIST\")"
   ]
  },
  {
   "cell_type": "code",
   "execution_count": 33,
   "metadata": {},
   "outputs": [
    {
     "name": "stdout",
     "output_type": "stream",
     "text": [
      "529119\n",
      "D\n"
     ]
    },
    {
     "data": {
      "text/plain": [
       "<matplotlib.image.AxesImage at 0x7f4d8b3c4640>"
      ]
     },
     "execution_count": 33,
     "metadata": {},
     "output_type": "execute_result"
    },
    {
     "data": {
      "image/png": "[encoded data removed]",
      "text/plain": [
       "<Figure size 432x288 with 1 Axes>"
      ]
     },
     "metadata": {
      "needs_background": "light"
     },
     "output_type": "display_data"
    }
   ],
   "source": [
    "print(len(data_set))\n",
    "num = 50000\n",
    "image, data = data_set[num]\n",
    "print(data)\n",
    "imshow(image)"
   ]
  },
  {
   "cell_type": "code",
   "execution_count": 34,
   "metadata": {},
   "outputs": [
    {
     "name": "stderr",
     "output_type": "stream",
     "text": [
      "100%|██████████| 10/10 [00:01<00:00,  7.50it/s]\n"
     ]
    }
   ],
   "source": [
    "data_transform = transforms.Compose([\n",
    "    #transforms.RandomResizedCrop([224,224]),\n",
    "    #transforms.RandomHorizontalFlip(),\n",
    "    transforms.ToTensor()\n",
    "    #transforms.Normalize(mean = [0.5,0.5,0.5], std = [0.3,0.2,0.2])\n",
    "])\n",
    "dataset = NotMNIST(\"/home/uichan/Desktop/Dataset/notMNIST\", transform=data_transform)\n",
    "data_loader = torch.utils.data.DataLoader(dataset, batch_size = 128, shuffle = True)"
   ]
  },
  {
   "cell_type": "code",
   "execution_count": 35,
   "metadata": {},
   "outputs": [
    {
     "name": "stdout",
     "output_type": "stream",
     "text": [
      "('C', 'E', 'B', 'A', 'B', 'D', 'D', 'G', 'D', 'D', 'E', 'E', 'G', 'G', 'J', 'H', 'J', 'I', 'B', 'A', 'G', 'A', 'E', 'I', 'H', 'G', 'D', 'A', 'C', 'B', 'G', 'F', 'B', 'G', 'A', 'D', 'C', 'E', 'I', 'E', 'H', 'E', 'F', 'F', 'C', 'J', 'E', 'G', 'G', 'A', 'B', 'G', 'C', 'J', 'D', 'C', 'A', 'J', 'G', 'G', 'B', 'C', 'A', 'I', 'G', 'D', 'I', 'H', 'J', 'E', 'I', 'G', 'D', 'E', 'E', 'I', 'F', 'C', 'A', 'J', 'A', 'C', 'A', 'J', 'B', 'F', 'J', 'H', 'A', 'G', 'F', 'H', 'H', 'H', 'J', 'C', 'D', 'B', 'H', 'B', 'H', 'D', 'A', 'I', 'F', 'D', 'C', 'A', 'J', 'A', 'H', 'E', 'C', 'C', 'I', 'H', 'H', 'C', 'B', 'A', 'G', 'J', 'E', 'H', 'E', 'I', 'C', 'A')\n",
      "tensor([[[[0.0000, 0.0000, 0.0000,  ..., 0.0157, 0.0000, 0.0000],\n",
      "          [0.0000, 0.0000, 0.0000,  ..., 0.8078, 0.3059, 0.0000],\n",
      "          [0.0000, 0.0000, 0.0000,  ..., 1.0000, 0.7059, 0.0000],\n",
      "          ...,\n",
      "          [0.0000, 0.0000, 0.0000,  ..., 1.0000, 0.6000, 0.0000],\n",
      "          [0.0000, 0.0000, 0.0000,  ..., 1.0000, 0.3922, 0.0000],\n",
      "          [0.0000, 0.0000, 0.0000,  ..., 0.3333, 0.0510, 0.0000]]],\n",
      "\n",
      "\n",
      "        [[[0.0000, 0.1490, 0.9725,  ..., 0.9725, 0.1451, 0.0000],\n",
      "          [0.0000, 0.4784, 1.0000,  ..., 1.0000, 0.4745, 0.0000],\n",
      "          [0.0118, 0.7686, 1.0000,  ..., 1.0000, 0.7647, 0.0078],\n",
      "          ...,\n",
      "          [0.0000, 0.0000, 0.0000,  ..., 0.0000, 0.0000, 0.0000],\n",
      "          [0.0000, 0.0000, 0.0000,  ..., 0.0000, 0.0000, 0.0000],\n",
      "          [0.0000, 0.0000, 0.0000,  ..., 0.0000, 0.0000, 0.0000]]],\n",
      "\n",
      "\n",
      "        [[[0.0000, 0.0000, 0.2824,  ..., 0.0039, 0.0078, 0.0000],\n",
      "          [0.0000, 0.0000, 0.7922,  ..., 0.1686, 0.0000, 0.0118],\n",
      "          [0.0000, 0.0039, 0.8627,  ..., 0.9686, 0.3529, 0.0000],\n",
      "          ...,\n",
      "          [0.9255, 1.0000, 0.9961,  ..., 0.8157, 0.1176, 0.0000],\n",
      "          [0.6980, 0.6627, 0.6000,  ..., 0.0431, 0.0000, 0.0078],\n",
      "          [0.0000, 0.0000, 0.0000,  ..., 0.0078, 0.0078, 0.0000]]],\n",
      "\n",
      "\n",
      "        ...,\n",
      "\n",
      "\n",
      "        [[[0.2784, 1.0000, 0.9961,  ..., 0.9961, 1.0000, 0.0863],\n",
      "          [0.0745, 0.3176, 0.3569,  ..., 0.3490, 0.3098, 0.0235],\n",
      "          [0.0000, 0.0000, 0.0000,  ..., 0.0000, 0.0000, 0.0000],\n",
      "          ...,\n",
      "          [0.0000, 0.0000, 0.0000,  ..., 0.0000, 0.0000, 0.0000],\n",
      "          [0.0627, 0.2667, 0.3059,  ..., 0.3020, 0.2588, 0.0196],\n",
      "          [0.2706, 1.0000, 0.9961,  ..., 0.9961, 1.0000, 0.0863]]],\n",
      "\n",
      "\n",
      "        [[[0.0078, 0.0039, 0.0000,  ..., 0.0000, 0.0039, 0.0078],\n",
      "          [0.0000, 0.1529, 0.5608,  ..., 0.5569, 0.1490, 0.0000],\n",
      "          [0.6745, 0.9647, 1.0000,  ..., 1.0000, 0.9647, 0.6706],\n",
      "          ...,\n",
      "          [0.6784, 0.9686, 1.0000,  ..., 1.0000, 0.9686, 0.6902],\n",
      "          [0.0000, 0.1569, 0.5608,  ..., 0.5686, 0.1647, 0.0000],\n",
      "          [0.0078, 0.0039, 0.0000,  ..., 0.0000, 0.0039, 0.0078]]],\n",
      "\n",
      "\n",
      "        [[[0.0000, 0.0000, 0.0000,  ..., 0.0000, 0.0000, 0.0000],\n",
      "          [0.0000, 0.0000, 0.0000,  ..., 0.0039, 0.0000, 0.0000],\n",
      "          [0.0000, 0.0000, 0.0000,  ..., 0.0039, 0.0000, 0.0000],\n",
      "          ...,\n",
      "          [0.4157, 1.0000, 0.6275,  ..., 1.0000, 0.6745, 0.0000],\n",
      "          [0.0745, 0.7765, 1.0000,  ..., 0.5490, 0.0235, 0.0000],\n",
      "          [0.0000, 0.0706, 0.4627,  ..., 0.0000, 0.0039, 0.0039]]]])\n"
     ]
    }
   ],
   "source": [
    "image, label = next(iter(data_loader))\n",
    "print(label)\n",
    "image.shape\n",
    "print(image)\n",
    "\n"
   ]
  },
  {
   "cell_type": "code",
   "execution_count": null,
   "metadata": {},
   "outputs": [],
   "source": []
  }
 ],
 "metadata": {
  "kernelspec": {
   "display_name": "Python 3.8.10 64-bit",
   "language": "python",
   "name": "python3"
  },
  "language_info": {
   "codemirror_mode": {
    "name": "ipython",
    "version": 3
   },
   "file_extension": ".py",
   "mimetype": "text/x-python",
   "name": "python",
   "nbconvert_exporter": "python",
   "pygments_lexer": "ipython3",
   "version": "3.8.10 (default, Nov 14 2022, 12:59:47) \n[GCC 9.4.0]"
  },
  "orig_nbformat": 4,
  "vscode": {
   "interpreter": {
    "hash": "31f2aee4e71d21fbe5cf8b01ff0e069b9275f58929596ceb00d14d90e3e16cd6"
   }
  }
 },
 "nbformat": 4,
 "nbformat_minor": 2
}
