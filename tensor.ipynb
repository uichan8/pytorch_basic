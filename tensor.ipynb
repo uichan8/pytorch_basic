{
 "cells": [
  {
   "cell_type": "code",
   "execution_count": 16,
   "metadata": {},
   "outputs": [],
   "source": [
    "import torch\n",
    "import torch.nn as nn # 신경망에 필요한 요소들을 포함\n",
    "import torch.nn.functional as F # 신경망에서 사용되는 기본 함수들을 포함\n",
    "import torch.optim as optim # 옵티마이저를 포함(경사하강법 알고리즘 포함)\n",
    "import torch.nn.init as init"
   ]
  },
  {
   "cell_type": "code",
   "execution_count": 39,
   "metadata": {},
   "outputs": [],
   "source": [
    "import matplotlib.pyplot as plt\n",
    "import numpy as np\n",
    "from time import time"
   ]
  },
  {
   "cell_type": "code",
   "execution_count": 17,
   "metadata": {},
   "outputs": [
    {
     "name": "stdout",
     "output_type": "stream",
     "text": [
      "cuda:0\n"
     ]
    }
   ],
   "source": [
    "#학습을 gpu에서 할껀지, cpu에서 할 것인지 정하는 것\n",
    "device = torch.device(\"cuda:0\" if torch.cuda.is_available() else \"cpu\")\n",
    "print(device)"
   ]
  },
  {
   "cell_type": "code",
   "execution_count": 18,
   "metadata": {},
   "outputs": [
    {
     "name": "stdout",
     "output_type": "stream",
     "text": [
      "tensor([-2., -4.], device='cuda:0')\n"
     ]
    }
   ],
   "source": [
    "#기본적인 텐서의 생성과, 기울기 구하기\n",
    "x = torch.tensor(data = [1.0,2.0], device = device, dtype = torch.float32, requires_grad = True)\n",
    "y = x**2\n",
    "\n",
    "target = torch.tensor([4.0, 9.0], device=device, dtype=torch.float32)\n",
    "loss = torch.sum(torch.abs(y-target))\n",
    "loss.backward()\n",
    "\n",
    "print(x.grad)"
   ]
  },
  {
   "cell_type": "code",
   "execution_count": 87,
   "metadata": {},
   "outputs": [],
   "source": [
    "#선형회귀 분석 모델\n",
    "num_data  = 1000\n",
    "num_epoch = 10000\n",
    "\n",
    "#데이터\n",
    "x = init.uniform_(torch.Tensor(num_data,1),-10,10) #data\n",
    "\n",
    "#레이블\n",
    "y = 2*x+3 #참값\n",
    "noise = init.normal_(torch.Tensor(num_data,1),std=1,mean=0)\n",
    "label = y + noise #여기서 노이즈를 추가하는이유는 어떠한 관측에서도 노이즈가 없을수가 없음을 구현한 것 없어도 무관하다.\n",
    "\n",
    "#모델\n",
    "model = nn.Linear(1,1) #input oupt이 1개씩인 선형 모델\n",
    "loss_func = nn.L1Loss() #절대값 평균 loss\n",
    "optimizer = optim.SGD(model.parameters(), lr = 0.001) #수치 경사 하강법\n"
   ]
  },
  {
   "cell_type": "code",
   "execution_count": 88,
   "metadata": {},
   "outputs": [],
   "source": [
    "#학습\n",
    "for i in range(num_epoch):\n",
    "    optimizer.zero_grad() #각 epoch 시행시 기울기를 0으로 바꿔줌 이거 안바꾸면 기울기 구한거 자꾸 더하기됨\n",
    "    \n",
    "    output = model(x) #모델에서 결과를 뽑고\n",
    "    loss = loss_func(output, label) #모델에서 loss를 구합니다.\n",
    "    loss.backward() #구해준 loss를부터 기울기를 구하고 \n",
    "    optimizer.step() # 기울기에 lr에 따라 파라미터들을 업데이트 해줍니다.\n",
    "\n",
    "    if i%10 == 0:\n",
    "        #print(loss.data)\n",
    "        pass"
   ]
  },
  {
   "cell_type": "code",
   "execution_count": 93,
   "metadata": {},
   "outputs": [
    {
     "name": "stdout",
     "output_type": "stream",
     "text": [
      "true : 2x + 3\n",
      "result : 1.99 x + 3.05\n"
     ]
    },
    {
     "data": {
      "image/png": "[encoded data removed]",
      "text/plain": [
       "<Figure size 432x288 with 1 Axes>"
      ]
     },
     "metadata": {
      "needs_background": "light"
     },
     "output_type": "display_data"
    }
   ],
   "source": [
    "#결과\n",
    "param_list = list(model.parameters())\n",
    "print(\"true : 2x + 3\")\n",
    "print(f\"result : {param_list[0].item():.3} x + {param_list[1].item():.3}\")\n",
    "\n",
    "#plot\n",
    "plt.scatter(x,y) #data\n",
    "\n",
    "x_infer = torch.tensor(data = [-10,10]) #infer\n",
    "y_infer = param_list[0].item() * x_infer + param_list[1].item()\n",
    "plt.plot(x_infer,y_infer,'-r')\n",
    "\n",
    "plt.show()"
   ]
  },
  {
   "cell_type": "code",
   "execution_count": null,
   "metadata": {},
   "outputs": [],
   "source": []
  }
 ],
 "metadata": {
  "kernelspec": {
   "display_name": "Python 3.8.10 64-bit",
   "language": "python",
   "name": "python3"
  },
  "language_info": {
   "codemirror_mode": {
    "name": "ipython",
    "version": 3
   },
   "file_extension": ".py",
   "mimetype": "text/x-python",
   "name": "python",
   "nbconvert_exporter": "python",
   "pygments_lexer": "ipython3",
   "version": "3.8.10"
  },
  "orig_nbformat": 4,
  "vscode": {
   "interpreter": {
    "hash": "916dbcbb3f70747c44a77c7bcd40155683ae19c65e1c03b4aa3499c5328201f1"
   }
  }
 },
 "nbformat": 4,
 "nbformat_minor": 2
}
