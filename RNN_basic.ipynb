{
 "cells": [
  {
   "cell_type": "code",
   "execution_count": 16,
   "metadata": {},
   "outputs": [],
   "source": [
    "import torch\n",
    "import torch.nn as nn\n",
    "import torch.optim as optim\n",
    "import torch.nn.init as init\n",
    "device = torch.device(\"cuda:0\" if torch.cuda.is_available() else \"cpu\")"
   ]
  },
  {
   "cell_type": "code",
   "execution_count": 3,
   "metadata": {},
   "outputs": [],
   "source": [
    "import numpy as np\n",
    "import matplotlib.pyplot as plt\n",
    "from tqdm import tqdm"
   ]
  },
  {
   "cell_type": "code",
   "execution_count": 23,
   "metadata": {},
   "outputs": [
    {
     "name": "stdout",
     "output_type": "stream",
     "text": [
      "tensor([0., 0., 0., 0., 0., 0., 0., 0., 0., 0., 0., 0., 0., 0., 0., 0., 0., 0.,\n",
      "        0., 0., 0., 0., 0., 1., 0., 0., 0., 0., 0., 0., 0., 0., 0., 0., 0., 0.,\n",
      "        0.], dtype=torch.float64)\n",
      "b\n"
     ]
    }
   ],
   "source": [
    "chars = 'qwertyuiopasdfghjklzxcvbnm ?!.,:;01'\n",
    "char_list = [i for i in chars]\n",
    "n_char_list = len(char_list)\n",
    "\n",
    "#문자열을 원핫 배열로\n",
    "def string_to_onehot(string):\n",
    "    #base\n",
    "    onehot_base = np.zeros(n_char_list+2)\n",
    "\n",
    "    #start\n",
    "    start = np.copy(onehot_base)\n",
    "    start[-2] = 1\n",
    "    result = start \n",
    "    \n",
    "    #string\n",
    "    for i in string:\n",
    "        onehot = np.copy(onehot_base)\n",
    "        index = char_list.index(i)\n",
    "        onehot[index] = 1\n",
    "        result = np.vstack([result,onehot])\n",
    "\n",
    "    #end\n",
    "    end = np.copy(onehot_base)\n",
    "    end[-1] = 1\n",
    "    result = np.vstack([result,end])\n",
    "    return torch.tensor(result)\n",
    "\n",
    "#원핫을 알파벳으로\n",
    "def onehot_to_alph(onehot):\n",
    "    #change type\n",
    "    try:\n",
    "        onehot = torch.Tensor.numpy(onehot)\n",
    "    except:\n",
    "        pass\n",
    "\n",
    "    try:\n",
    "        return char_list[onehot.argmax()]\n",
    "    except:\n",
    "        pass\n",
    "\n",
    "\n",
    "#test\n",
    "test = string_to_onehot('abc')\n",
    "print(test[2])\n",
    "print(onehot_to_alph(test[2]))\n",
    "\n"
   ]
  },
  {
   "cell_type": "code",
   "execution_count": 5,
   "metadata": {},
   "outputs": [],
   "source": [
    "#학습 정보\n",
    "n_hidden = 35\n",
    "lr = 0.05\n",
    "epoch = 80\n",
    "\n",
    "string = \"hello pytorch. how long can a rnn cell remember?\""
   ]
  },
  {
   "cell_type": "code",
   "execution_count": 13,
   "metadata": {},
   "outputs": [],
   "source": [
    "#간단한 버전 모델\n",
    "class RNN(nn.Module):\n",
    "    def __init__(self,input_size,output_size,hidden_size):\n",
    "        super().__init__()\n",
    "\n",
    "        #입력값 저장\n",
    "        self.input_size = input_size\n",
    "        self.output_size = output_size\n",
    "        self.hidden_size = hidden_size\n",
    "\n",
    "        #레이어 선언\n",
    "        self.i2h = nn.Linear(input_size,hidden_size)\n",
    "        self.h2h = nn.Linear(hidden_size,hidden_size)\n",
    "        self.i2o = nn.Linear(hidden_size,output_size)\n",
    "        self.activ_func = nn.Tanh()\n",
    "\n",
    "    def forward(self,input,hidden):\n",
    "        hidden = self.i2h(input) + self.h2h(hidden)\n",
    "        hidden = self.activ_func(hidden)\n",
    "        output = self.i2o(hidden)\n",
    "        return output, hidden\n",
    "\n",
    "    def init_hidden(self): #시퀀스 처음에 히든레이어를 0으로 초기화하기 위함\n",
    "        return torch.zeros(1,self.hidden_size).to(device)\n",
    "        "
   ]
  },
  {
   "cell_type": "code",
   "execution_count": 14,
   "metadata": {},
   "outputs": [],
   "source": [
    "input_size = n_char_list+2\n",
    "rnn = RNN(input_size, input_size, n_hidden).to(device)\n",
    "loss_func = nn.MSELoss()\n",
    "optimizer = optim.Adam(rnn.parameters(),lr = lr)"
   ]
  },
  {
   "cell_type": "code",
   "execution_count": 22,
   "metadata": {},
   "outputs": [
    {
     "name": "stderr",
     "output_type": "stream",
     "text": [
      "/tmp/ipykernel_75387/2404588954.py:1: UserWarning: To copy construct from a tensor, it is recommended to use sourceTensor.clone().detach() or sourceTensor.clone().detach().requires_grad_(True), rather than torch.tensor(sourceTensor).\n",
      "  data = torch.tensor(string_to_onehot(string),dtype=torch.float32)\n"
     ]
    },
    {
     "ename": "RuntimeError",
     "evalue": "CUDA error: no kernel image is available for execution on the device\nCUDA kernel errors might be asynchronously reported at some other API call,so the stacktrace below might be incorrect.\nFor debugging consider passing CUDA_LAUNCH_BLOCKING=1.",
     "output_type": "error",
     "traceback": [
      "\u001b[0;31m---------------------------------------------------------------------------\u001b[0m",
      "\u001b[0;31mRuntimeError\u001b[0m                              Traceback (most recent call last)",
      "\u001b[1;32m/home/uichan/Desktop/practice/pytorch_basic/RNN_basic.ipynb 셀 7\u001b[0m in \u001b[0;36m<cell line: 1>\u001b[0;34m()\u001b[0m\n\u001b[0;32m----> <a href='vscode-notebook-cell://ssh-remote%2B7b22686f73744e616d65223a2231303930305f5532302e3034227d/home/uichan/Desktop/practice/pytorch_basic/RNN_basic.ipynb#W6sdnNjb2RlLXJlbW90ZQ%3D%3D?line=0'>1</a>\u001b[0m data \u001b[39m=\u001b[39m torch\u001b[39m.\u001b[39;49mtensor(string_to_onehot(string),dtype\u001b[39m=\u001b[39;49mtorch\u001b[39m.\u001b[39;49mfloat32)\n\u001b[1;32m      <a href='vscode-notebook-cell://ssh-remote%2B7b22686f73744e616d65223a2231303930305f5532302e3034227d/home/uichan/Desktop/practice/pytorch_basic/RNN_basic.ipynb#W6sdnNjb2RlLXJlbW90ZQ%3D%3D?line=1'>2</a>\u001b[0m loss_array \u001b[39m=\u001b[39m []\n\u001b[1;32m      <a href='vscode-notebook-cell://ssh-remote%2B7b22686f73744e616d65223a2231303930305f5532302e3034227d/home/uichan/Desktop/practice/pytorch_basic/RNN_basic.ipynb#W6sdnNjb2RlLXJlbW90ZQ%3D%3D?line=3'>4</a>\u001b[0m \u001b[39mfor\u001b[39;00m i \u001b[39min\u001b[39;00m tqdm(\u001b[39mrange\u001b[39m(epoch)):\n",
      "\u001b[0;31mRuntimeError\u001b[0m: CUDA error: no kernel image is available for execution on the device\nCUDA kernel errors might be asynchronously reported at some other API call,so the stacktrace below might be incorrect.\nFor debugging consider passing CUDA_LAUNCH_BLOCKING=1."
     ]
    }
   ],
   "source": [
    "data = torch.tensor(string_to_onehot(string),dtype=torch.float32)\n",
    "loss_array = []\n",
    "\n",
    "for i in tqdm(range(epoch)):\n",
    "    rnn.zero_grad()\n",
    "    total_loss = 0\n",
    "    hidden = rnn.init_hidden()\n",
    "\n",
    "    for j in range(data.shape[0] - 1):\n",
    "        input_ = data[j,...]\n",
    "        target = data[j+1,...]\n",
    "\n",
    "        output,hidden = rnn.forward(input_,hidden)\n",
    "        loss = loss_func(output,target)\n",
    "        total_loss += loss\n",
    "        \n",
    "    total_loss.backward()\n",
    "    optimizer.step()\n",
    "    loss_array.append(total_loss.cpu().detach().numpy())"
   ]
  },
  {
   "cell_type": "code",
   "execution_count": 9,
   "metadata": {},
   "outputs": [
    {
     "ename": "NameError",
     "evalue": "name 'loss_array' is not defined",
     "output_type": "error",
     "traceback": [
      "\u001b[0;31m---------------------------------------------------------------------------\u001b[0m",
      "\u001b[0;31mNameError\u001b[0m                                 Traceback (most recent call last)",
      "\u001b[1;32m/home/uichan/Desktop/practice/pytorch_basic/RNN_basic.ipynb 셀 8\u001b[0m in \u001b[0;36m<cell line: 2>\u001b[0;34m()\u001b[0m\n\u001b[1;32m      <a href='vscode-notebook-cell://ssh-remote%2B7b22686f73744e616d65223a2231303930305f5532302e3034227d/home/uichan/Desktop/practice/pytorch_basic/RNN_basic.ipynb#X10sdnNjb2RlLXJlbW90ZQ%3D%3D?line=0'>1</a>\u001b[0m \u001b[39m#print loss\u001b[39;00m\n\u001b[0;32m----> <a href='vscode-notebook-cell://ssh-remote%2B7b22686f73744e616d65223a2231303930305f5532302e3034227d/home/uichan/Desktop/practice/pytorch_basic/RNN_basic.ipynb#X10sdnNjb2RlLXJlbW90ZQ%3D%3D?line=1'>2</a>\u001b[0m \u001b[39mprint\u001b[39m(loss_array[\u001b[39m-\u001b[39m\u001b[39m1\u001b[39m])\n\u001b[1;32m      <a href='vscode-notebook-cell://ssh-remote%2B7b22686f73744e616d65223a2231303930305f5532302e3034227d/home/uichan/Desktop/practice/pytorch_basic/RNN_basic.ipynb#X10sdnNjb2RlLXJlbW90ZQ%3D%3D?line=2'>3</a>\u001b[0m plt\u001b[39m.\u001b[39mplot(loss_array)\n\u001b[1;32m      <a href='vscode-notebook-cell://ssh-remote%2B7b22686f73744e616d65223a2231303930305f5532302e3034227d/home/uichan/Desktop/practice/pytorch_basic/RNN_basic.ipynb#X10sdnNjb2RlLXJlbW90ZQ%3D%3D?line=3'>4</a>\u001b[0m plt\u001b[39m.\u001b[39mshow()\n",
      "\u001b[0;31mNameError\u001b[0m: name 'loss_array' is not defined"
     ]
    }
   ],
   "source": [
    "#print loss\n",
    "print(loss_array[-1])\n",
    "plt.plot(loss_array)\n",
    "plt.show()"
   ]
  },
  {
   "cell_type": "code",
   "execution_count": 10,
   "metadata": {},
   "outputs": [
    {
     "name": "stdout",
     "output_type": "stream",
     "text": [
      "feemmmffffffffffffffffffffffff\n"
     ]
    }
   ],
   "source": [
    "onehot_base = np.zeros(n_char_list+2)\n",
    "start = torch.tensor(np.copy(onehot_base),dtype=torch.float32)\n",
    "start[-2] = 1\n",
    "\n",
    "with torch.no_grad():\n",
    "    hidden = rnn.init_hidden()\n",
    "    output_string = \"\"\n",
    "\n",
    "    for i in range(30):\n",
    "        output,hidden = rnn.forward(start,hidden)\n",
    "        output_string += onehot_to_alph(output)\n",
    "    \n",
    "    print(output_string)\n",
    "    "
   ]
  },
  {
   "cell_type": "code",
   "execution_count": null,
   "metadata": {},
   "outputs": [],
   "source": []
  }
 ],
 "metadata": {
  "kernelspec": {
   "display_name": "Python 3.8.10 64-bit",
   "language": "python",
   "name": "python3"
  },
  "language_info": {
   "codemirror_mode": {
    "name": "ipython",
    "version": 3
   },
   "file_extension": ".py",
   "mimetype": "text/x-python",
   "name": "python",
   "nbconvert_exporter": "python",
   "pygments_lexer": "ipython3",
   "version": "3.8.10"
  },
  "orig_nbformat": 4,
  "vscode": {
   "interpreter": {
    "hash": "916dbcbb3f70747c44a77c7bcd40155683ae19c65e1c03b4aa3499c5328201f1"
   }
  }
 },
 "nbformat": 4,
 "nbformat_minor": 2
}
