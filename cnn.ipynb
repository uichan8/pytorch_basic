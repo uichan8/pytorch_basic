{
 "cells": [
  {
   "cell_type": "code",
   "execution_count": 1,
   "metadata": {},
   "outputs": [],
   "source": [
    "import torch\n",
    "import torch.nn as nn\n",
    "import torch.optim as optim\n",
    "import torch.nn.init as init"
   ]
  },
  {
   "cell_type": "code",
   "execution_count": 3,
   "metadata": {},
   "outputs": [],
   "source": [
    "import torchvision.datasets as dset #데이터셋, 모델, 이미지 포함\n",
    "import torchvision.transforms as transforms #불러온 이미지의 변환\n",
    "from torch.utils.data import DataLoader #배치사이즈대로 묶어서 전달할때 묶거나 섞을 수 있는 클래스"
   ]
  },
  {
   "cell_type": "code",
   "execution_count": 129,
   "metadata": {},
   "outputs": [],
   "source": [
    "import matplotlib.pylab as plt\n",
    "import numpy as np\n",
    "from tqdm import tqdm"
   ]
  },
  {
   "cell_type": "code",
   "execution_count": 39,
   "metadata": {},
   "outputs": [
    {
     "name": "stdout",
     "output_type": "stream",
     "text": [
      "download 완료!\n"
     ]
    }
   ],
   "source": [
    "#download mnist\n",
    "mnist_train = dset.MNIST(root='./data/mnist', train=True, transform=transforms.ToTensor(),target_transform=None ,download=True)\n",
    "mnist_test  = dset.MNIST(root='./data/mnist', train=False, transform=transforms.ToTensor(),target_transform=None ,download=True)\n",
    "\n",
    "train_loadaer = DataLoader(mnist_train, batch_size=256, shuffle=True, num_workers=2, drop_last = True)\n",
    "test_loader   = DataLoader(mnist_test, batch_size=256, shuffle=False, num_workers=2, drop_last = True)\n",
    "print(\"download 완료!\")"
   ]
  },
  {
   "cell_type": "code",
   "execution_count": 30,
   "metadata": {},
   "outputs": [
    {
     "data": {
      "image/png": "[encoded data removed]",
      "text/plain": [
       "<Figure size 432x288 with 1 Axes>"
      ]
     },
     "metadata": {
      "needs_background": "light"
     },
     "output_type": "display_data"
    },
    {
     "name": "stdout",
     "output_type": "stream",
     "text": [
      "label : 4\n",
      "shape : torch.Size([1, 28, 28])\n"
     ]
    }
   ],
   "source": [
    "#check data\n",
    "random_num = np.random.randint(0, 10000)\n",
    "plt.imshow(mnist_test[random_num][0].reshape(-1,28),cmap=\"gray\")\n",
    "plt.show()\n",
    "print(f\"label : {mnist_test[random_num][1]}\")\n",
    "print(f\"shape : {mnist_test[random_num][0].shape}\")"
   ]
  },
  {
   "cell_type": "code",
   "execution_count": 88,
   "metadata": {},
   "outputs": [],
   "source": [
    "lr = 0.00002\n",
    "num_epoch = 100"
   ]
  },
  {
   "cell_type": "code",
   "execution_count": 89,
   "metadata": {},
   "outputs": [],
   "source": [
    "class CNN(nn.Module):\n",
    "    def __init__(self):\n",
    "        super().__init__()\n",
    "        self.layer = nn.Sequential(\n",
    "            #conv\n",
    "            nn.Conv2d(1,16,5), # 28 -> 24\n",
    "            nn.ReLU(),\n",
    "            nn.Conv2d(16,32,5), # 24 -> 20\n",
    "            nn.ReLU(),\n",
    "            nn.MaxPool2d(2,2), # 20 -> 10\n",
    "            nn.Conv2d(32,64,5), # 10 -> 6\n",
    "            nn.ReLU(),\n",
    "            nn.MaxPool2d(2,2), # 6 -> 3\n",
    "        )\n",
    "\n",
    "        self.fc = nn.Sequential(\n",
    "            nn.Linear(64*3*3, 100),\n",
    "            nn.ReLU(),\n",
    "            nn.Linear(100, 10),\n",
    "        )\n",
    "\n",
    "    def forward(self, x):\n",
    "        out = self.layer(x)\n",
    "        out = out.view(out.size(0), -1)\n",
    "        out = self.fc(out)\n",
    "        return out"
   ]
  },
  {
   "cell_type": "code",
   "execution_count": 94,
   "metadata": {},
   "outputs": [],
   "source": [
    "device = torch.device(\"cuda:0\" if torch.cuda.is_available() else \"cpu\")\n",
    "model = CNN().to(device)\n",
    "loss_func = nn.CrossEntropyLoss()\n",
    "optimizer = optim.Adam(model.parameters(), lr=lr)\n",
    "#optimizer = optim.SGD(model.parameters(), lr=lr)"
   ]
  },
  {
   "cell_type": "code",
   "execution_count": 95,
   "metadata": {},
   "outputs": [
    {
     "name": "stderr",
     "output_type": "stream",
     "text": [
      "100%|██████████| 100/100 [00:43<00:00,  2.31it/s]"
     ]
    },
    {
     "name": "stdout",
     "output_type": "stream",
     "text": [
      "train 완료!\n"
     ]
    },
    {
     "name": "stderr",
     "output_type": "stream",
     "text": [
      "\n"
     ]
    }
   ],
   "source": [
    "loss_arr = []\n",
    "for i in tqdm(range(num_epoch)):\n",
    "    loss_sum = 0\n",
    "    for [image,label] in test_loader:  #enumerate 사용시 인덱스와 튜플을 같이 넘겨줌\n",
    "        x = image.to(device)\n",
    "        y = label.to(device)\n",
    "\n",
    "        output = model.forward(x)\n",
    "        _,output_max = torch.max(output,1)\n",
    "\n",
    "        loss = loss_func(output,y)\n",
    "        loss.backward()\n",
    "        optimizer.step()\n",
    "        loss_sum += loss.cpu().detach().numpy()\n",
    "    loss_arr.append(loss_sum)\n",
    "    \n",
    "\n",
    "print(\"train 완료!\")\n",
    "        \n"
   ]
  },
  {
   "cell_type": "code",
   "execution_count": 96,
   "metadata": {},
   "outputs": [
    {
     "data": {
      "image/png": "[encoded data removed]",
      "text/plain": [
       "<Figure size 432x288 with 1 Axes>"
      ]
     },
     "metadata": {
      "needs_background": "light"
     },
     "output_type": "display_data"
    },
    {
     "name": "stdout",
     "output_type": "stream",
     "text": [
      "4.531961204484105\n"
     ]
    }
   ],
   "source": [
    "#print loss\n",
    "plt.plot(loss_arr)\n",
    "plt.show()\n",
    "print(loss_arr[-1])"
   ]
  },
  {
   "cell_type": "code",
   "execution_count": 119,
   "metadata": {},
   "outputs": [
    {
     "name": "stdout",
     "output_type": "stream",
     "text": [
      "total    : 9984\n",
      "correct  : 9618\n",
      "accuracy : 96.3%\n"
     ]
    }
   ],
   "source": [
    "#검증\n",
    "\n",
    "total = 0\n",
    "correct = 0\n",
    "\n",
    "with torch.no_grad():\n",
    "    for image,label in test_loader:\n",
    "        x = image.to(device)\n",
    "        y = label.to(device)\n",
    "\n",
    "        output = model.forward(x)\n",
    "        _,output_max = torch.max(output,1)\n",
    "        \n",
    "        total += label.size(0)\n",
    "        correct += (output_max == y).sum()\n",
    "\n",
    "print(f\"total    : {total}\")\n",
    "print(f\"correct  : {correct.cpu().numpy()}\")\n",
    "print(f\"accuracy : {correct/total*100:.3}%\")\n",
    "        "
   ]
  },
  {
   "cell_type": "code",
   "execution_count": 126,
   "metadata": {},
   "outputs": [
    {
     "data": {
      "image/png": "[encoded data removed]",
      "text/plain": [
       "<Figure size 432x288 with 1 Axes>"
      ]
     },
     "metadata": {
      "needs_background": "light"
     },
     "output_type": "display_data"
    },
    {
     "name": "stdout",
     "output_type": "stream",
     "text": [
      "label : 8\n",
      "infer : 8\n",
      "True\n"
     ]
    }
   ],
   "source": [
    "#이미지 확인\n",
    "\n",
    "random_num = np.random.randint(0, 10000)\n",
    "image = mnist_test[random_num][0]\n",
    "\n",
    "plt.imshow(image.reshape(-1,28),cmap=\"gray\")\n",
    "plt.show()\n",
    "print(f\"label : {mnist_test[random_num][1]}\")\n",
    "#infer\n",
    "with torch.no_grad():\n",
    "    output = model.forward(image.reshape([1,1,28,28]).to(device))\n",
    "    _,output_max = torch.max(output,1)\n",
    "\n",
    "print(f\"infer : {int(output_max)}\")\n",
    "print(int(output_max)==mnist_test[random_num][1])\n",
    "\n"
   ]
  },
  {
   "cell_type": "code",
   "execution_count": 135,
   "metadata": {},
   "outputs": [
    {
     "data": {
      "image/png": "[encoded data removed]",
      "text/plain": [
       "<Figure size 432x288 with 1 Axes>"
      ]
     },
     "metadata": {
      "needs_background": "light"
     },
     "output_type": "display_data"
    },
    {
     "name": "stdout",
     "output_type": "stream",
     "text": [
      "label : 8\n",
      "infer : 3\n",
      "False\n"
     ]
    }
   ],
   "source": [
    "#틀렸을때의 출력\n",
    "val = True\n",
    "while val:\n",
    "    random_num = np.random.randint(0, 10000)\n",
    "    image = mnist_test[random_num][0]\n",
    "    \n",
    "    #infer\n",
    "    with torch.no_grad():\n",
    "        output = model.forward(image.reshape([1,1,28,28]).to(device))\n",
    "        _,output_max = torch.max(output,1)\n",
    "\n",
    "    val = int(output_max)==mnist_test[random_num][1]\n",
    "\n",
    "plt.imshow(image.reshape(-1,28),cmap=\"gray\")\n",
    "plt.show()\n",
    "print(f\"label : {mnist_test[random_num][1]}\")\n",
    "print(f\"infer : {int(output_max)}\")\n",
    "print(int(output_max)==mnist_test[random_num][1])"
   ]
  },
  {
   "cell_type": "code",
   "execution_count": null,
   "metadata": {},
   "outputs": [],
   "source": []
  }
 ],
 "metadata": {
  "kernelspec": {
   "display_name": "Python 3.8.10 64-bit",
   "language": "python",
   "name": "python3"
  },
  "language_info": {
   "codemirror_mode": {
    "name": "ipython",
    "version": 3
   },
   "file_extension": ".py",
   "mimetype": "text/x-python",
   "name": "python",
   "nbconvert_exporter": "python",
   "pygments_lexer": "ipython3",
   "version": "3.8.10"
  },
  "orig_nbformat": 4,
  "vscode": {
   "interpreter": {
    "hash": "916dbcbb3f70747c44a77c7bcd40155683ae19c65e1c03b4aa3499c5328201f1"
   }
  }
 },
 "nbformat": 4,
 "nbformat_minor": 2
}
