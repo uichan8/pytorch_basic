{
 "cells": [
  {
   "cell_type": "code",
   "execution_count": 22,
   "metadata": {},
   "outputs": [],
   "source": [
    "import torch\n",
    "import torch.nn as nn\n",
    "import torch.optim as optim"
   ]
  },
  {
   "cell_type": "code",
   "execution_count": 23,
   "metadata": {},
   "outputs": [],
   "source": [
    "import numpy as numpy\n",
    "import matplotlib.pyplot as plt\n",
    "from tqdm import tqdm"
   ]
  },
  {
   "cell_type": "code",
   "execution_count": 24,
   "metadata": {},
   "outputs": [],
   "source": [
    "import string\n",
    "import unidecode\n",
    "import random"
   ]
  },
  {
   "cell_type": "code",
   "execution_count": 25,
   "metadata": {},
   "outputs": [
    {
     "name": "stdout",
     "output_type": "stream",
     "text": [
      "1115394\n",
      "0123456789abcdefghijklmnopqrstuvwxyzABCDEFGHIJKLMNOPQRSTUVWXYZ!\"#$%&'()*+,-./:;<=>?@[\\]^_`{|}~ \t\n",
      "\u000b\f\n",
      "100\n"
     ]
    }
   ],
   "source": [
    "all_char = string.printable\n",
    "all_char_len = len(all_char)\n",
    "\n",
    "file = unidecode.unidecode(open(\"data/tiny-shakespeare.txt\").read())\n",
    "file_len = len(file)\n",
    "print(file_len)\n",
    "\n",
    "print(all_char)\n",
    "print(all_char_len)"
   ]
  },
  {
   "cell_type": "code",
   "execution_count": 56,
   "metadata": {},
   "outputs": [
    {
     "name": "stdout",
     "output_type": "stream",
     "text": [
      "tensor([10., 11., 12.])\n"
     ]
    }
   ],
   "source": [
    "def char_tensor(txt):\n",
    "    len_txt = len(txt)\n",
    "    tensor = torch.zeros(len_txt)\n",
    "\n",
    "    for c in range(len_txt):\n",
    "        tensor[c] = all_char.index(txt[c])\n",
    "        \n",
    "    return tensor\n",
    "\n",
    "print(char_tensor(\"abc\"))"
   ]
  },
  {
   "cell_type": "code",
   "execution_count": 59,
   "metadata": {},
   "outputs": [],
   "source": [
    "def random_chunk(chunk_len = 1000):\n",
    "    start_index = random.randint(0,file_len - chunk_len)\n",
    "    end_index  = start_index + chunk_len\n",
    "    \n",
    "    return file[start_index:end_index]\n",
    "\n",
    "def make_set(To_tensor = True):\n",
    "    chunk = random_chunk()\n",
    "    if To_tensor:\n",
    "        chunk = char_tensor(chunk)\n",
    "    inp = char_tensor[:-1]\n",
    "    target = char_tensor[1:]\n",
    "\n",
    "    return inp, target"
   ]
  },
  {
   "cell_type": "code",
   "execution_count": 51,
   "metadata": {},
   "outputs": [],
   "source": [
    "class RNN(nn.Module):\n",
    "    def __init__(self, input_size, output_size, hidden_size, embedding_size, num_layer = 1):\n",
    "        super().__init__()\n",
    "\n",
    "        #size info\n",
    "        self.input_size = input_size\n",
    "        self.output_size = output_size\n",
    "        self.hidden_size = hidden_size\n",
    "        self.num_layer = num_layer\n",
    "        self.embedding_size = embedding_size\n",
    "\n",
    "        #model\n",
    "        self.encoder = nn.Embedding(input_size, embedding_size)\n",
    "        self.rnn     = nn.RNN(embedding_size, hidden_size, num_layer) #여기 함수 이름을 바꾸면 됨 RNN <-> GRU\n",
    "        self.decoder = nn.Linear(hidden_size, output_size)\n",
    "    \n",
    "    def forward(self, input, hidden):\n",
    "        out = self.encoder(input)\n",
    "        out,hidden = self.rnn(out,hidden)\n",
    "        out = self.decoder(out)\n",
    "        return out, hidden\n",
    "\n",
    "    def init_hidden(self):\n",
    "        batch_size = 64\n",
    "        hidden = torch.zeros(self.num_layer, self.hidden_size, batch_size)\n",
    "        return hidden\n"
   ]
  },
  {
   "cell_type": "code",
   "execution_count": 58,
   "metadata": {},
   "outputs": [],
   "source": [
    "epoch = 1000\n",
    "lr = 0.0002\n",
    "chunk_len = 1000\n",
    "model = RNN(all_char_len,all_char_len,20,50,2)\n",
    "loss_func = nn.MSELoss()\n",
    "optimizer = optim.Adam(rnn.parameters(),lr = lr)\n",
    "\n",
    "inp = char_tensor(\"A\")\n",
    "hidden = model.init_hidden()\n",
    "out,hidden = (inp,hidden)"
   ]
  },
  {
   "cell_type": "code",
   "execution_count": null,
   "metadata": {},
   "outputs": [],
   "source": [
    "loss_array = []\n",
    "\n",
    "for i in tqdm(range(epoch)):\n",
    "    model.zero_grad()\n",
    "    total_loss = 0\n",
    "    inp, label = make_set()\n",
    "    hidden = model.init_hidden()\n",
    "\n",
    "    for j in range(chunk_len - 1):\n",
    "        input_ = inp[j]\n",
    "        target = label[j]\n",
    "\n",
    "        output,hidden = model.forward(input_,hidden)\n",
    "        loss = loss_func(output,target)\n",
    "        total_loss += loss\n",
    "        \n",
    "    total_loss.backward()\n",
    "    optimizer.step()\n",
    "    loss_array.append(total_loss.cpu().detach().numpy())"
   ]
  }
 ],
 "metadata": {
  "kernelspec": {
   "display_name": "Python 3.8.9 64-bit",
   "language": "python",
   "name": "python3"
  },
  "language_info": {
   "codemirror_mode": {
    "name": "ipython",
    "version": 3
   },
   "file_extension": ".py",
   "mimetype": "text/x-python",
   "name": "python",
   "nbconvert_exporter": "python",
   "pygments_lexer": "ipython3",
   "version": "3.8.10"
  },
  "orig_nbformat": 4,
  "vscode": {
   "interpreter": {
    "hash": "31f2aee4e71d21fbe5cf8b01ff0e069b9275f58929596ceb00d14d90e3e16cd6"
   }
  }
 },
 "nbformat": 4,
 "nbformat_minor": 2
}
