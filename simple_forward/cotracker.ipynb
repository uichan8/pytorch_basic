{
 "cells": [
  {
   "cell_type": "code",
   "execution_count": 22,
   "metadata": {},
   "outputs": [],
   "source": [
    "import torch\n",
    "import imageio.v3 as iio\n",
    "import matplotlib.pyplot as plt\n",
    "import numpy as np\n",
    "import cv2\n",
    "from matplotlib.backends.backend_agg import FigureCanvasAgg as FigureCanvas\n"
   ]
  },
  {
   "cell_type": "code",
   "execution_count": 11,
   "metadata": {},
   "outputs": [
    {
     "name": "stderr",
     "output_type": "stream",
     "text": [
      "Using cache found in /home/uichan8/.cache/torch/hub/facebookresearch_co-tracker_main\n"
     ]
    }
   ],
   "source": [
    "device = 'cuda:0'\n",
    "cotracker = torch.hub.load(\"facebookresearch/co-tracker\", \"cotracker2_online\").to(device)"
   ]
  },
  {
   "cell_type": "code",
   "execution_count": 12,
   "metadata": {},
   "outputs": [
    {
     "data": {
      "text/plain": [
       "torch.Size([1, 406, 3, 720, 1280])"
      ]
     },
     "execution_count": 12,
     "metadata": {},
     "output_type": "execute_result"
    }
   ],
   "source": [
    "video_path = 'image/sample.mp4'\n",
    "frames = iio.imread(video_path)\n",
    "grid_size = 20\n",
    "video = torch.tensor(frames).permute(0, 3, 1, 2)[None].float().to(device)\n",
    "video.shape"
   ]
  },
  {
   "cell_type": "code",
   "execution_count": 13,
   "metadata": {},
   "outputs": [],
   "source": [
    "cotracker(video_chunk=video, is_first_step=True, grid_size=grid_size)\n",
    "for ind in range(0, video.shape[1] - cotracker.step, cotracker.step):\n",
    "    pred_tracks, pred_visibility = cotracker(\n",
    "        video_chunk=video[:, ind : ind + cotracker.step * 2]\n",
    "    )"
   ]
  },
  {
   "cell_type": "code",
   "execution_count": 14,
   "metadata": {},
   "outputs": [
    {
     "data": {
      "text/plain": [
       "torch.Size([1, 406, 400, 2])"
      ]
     },
     "execution_count": 14,
     "metadata": {},
     "output_type": "execute_result"
    }
   ],
   "source": [
    "pred_tracks.shape"
   ]
  },
  {
   "cell_type": "code",
   "execution_count": 15,
   "metadata": {},
   "outputs": [
    {
     "data": {
      "text/plain": [
       "torch.Size([1, 406, 400])"
      ]
     },
     "execution_count": 15,
     "metadata": {},
     "output_type": "execute_result"
    }
   ],
   "source": [
    "pred_visibility.shape"
   ]
  },
  {
   "cell_type": "code",
   "execution_count": 26,
   "metadata": {},
   "outputs": [
    {
     "name": "stderr",
     "output_type": "stream",
     "text": [
      "/tmp/ipykernel_308603/801931199.py:23: MatplotlibDeprecationWarning: The tostring_rgb function was deprecated in Matplotlib 3.8 and will be removed in 3.10. Use buffer_rgba instead.\n",
      "  frame = np.frombuffer(canvas.tostring_rgb(), dtype=np.uint8)\n"
     ]
    }
   ],
   "source": [
    "# 동영상 저장 설정\n",
    "frame_width = frames.shape[1]\n",
    "frame_height = frames.shape[0]\n",
    "fourcc = cv2.VideoWriter_fourcc(*'mp4v')  # 코덱을 XVID에서 mp4v로 변경\n",
    "out = cv2.VideoWriter('output_video.mp4', fourcc, 30.0, (frame_width, frame_height))\n",
    "\n",
    "# 프레임 생성 및 저장 루프\n",
    "for i in range(pred_tracks.shape[1]):\n",
    "    target_image = video[0, i, :, :, :]\n",
    "    target_image = target_image.permute(1, 2, 0)\n",
    "    target_image = target_image.cpu().numpy().astype(np.uint8)\n",
    "    target_point = pred_tracks[0, i, :, :].cpu().numpy()\n",
    "    target_valid = pred_visibility[0, i, :].cpu().numpy()\n",
    "\n",
    "    # Matplotlib을 사용하여 이미지 생성\n",
    "    fig, ax = plt.subplots()\n",
    "    ax.imshow(target_image)\n",
    "    ax.scatter(target_point[:, 0] * target_valid, target_point[:, 1] * target_valid, c='r', s=1)\n",
    "    \n",
    "    # figure를 frame으로 변환\n",
    "    canvas = FigureCanvas(fig)\n",
    "    canvas.draw()\n",
    "    frame = np.frombuffer(canvas.buffer_rgba(), dtype=np.uint8)\n",
    "    frame = frame.reshape(canvas.get_width_height()[::-1] + (4,))\n",
    "    \n",
    "    # frame을 BGR로 변환 후 동영상에 저장\n",
    "    frame = cv2.cvtColor(frame, cv2.COLOR_RGB2BGR)\n",
    "    out.write(frame)\n",
    "    \n",
    "    # 플롯 닫기\n",
    "    plt.close(fig)\n",
    "\n",
    "out.release()\n",
    "    "
   ]
  },
  {
   "cell_type": "code",
   "execution_count": null,
   "metadata": {},
   "outputs": [],
   "source": []
  }
 ],
 "metadata": {
  "kernelspec": {
   "display_name": "cotracker",
   "language": "python",
   "name": "python3"
  },
  "language_info": {
   "codemirror_mode": {
    "name": "ipython",
    "version": 3
   },
   "file_extension": ".py",
   "mimetype": "text/x-python",
   "name": "python",
   "nbconvert_exporter": "python",
   "pygments_lexer": "ipython3",
   "version": "3.12.4"
  }
 },
 "nbformat": 4,
 "nbformat_minor": 2
}
