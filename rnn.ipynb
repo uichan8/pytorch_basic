{
 "cells": [
  {
   "cell_type": "code",
   "execution_count": 1,
   "metadata": {},
   "outputs": [
    {
     "name": "stderr",
     "output_type": "stream",
     "text": [
      "/home/uichan/.local/lib/python3.8/site-packages/tqdm/auto.py:22: TqdmWarning: IProgress not found. Please update jupyter and ipywidgets. See https://ipywidgets.readthedocs.io/en/stable/user_install.html\n",
      "  from .autonotebook import tqdm as notebook_tqdm\n"
     ]
    }
   ],
   "source": [
    "import torch\n",
    "import torch.nn as nn\n",
    "import torch.optim as optim\n",
    "import torch.nn.init as init"
   ]
  },
  {
   "cell_type": "code",
   "execution_count": 11,
   "metadata": {},
   "outputs": [],
   "source": [
    "import numpy as np\n",
    "import matplotlib.pyplot as plt\n",
    "from tqdm import tqdm"
   ]
  },
  {
   "cell_type": "code",
   "execution_count": 3,
   "metadata": {},
   "outputs": [
    {
     "name": "stdout",
     "output_type": "stream",
     "text": [
      "[0. 0. 0. 0. 0. 0. 0. 0. 0. 0. 0. 0. 0. 0. 0. 0. 0. 0. 0. 0. 0. 0. 0. 1.\n",
      " 0. 0. 0. 0. 0. 0. 0. 0. 0. 0. 0. 0. 0.]\n",
      "b\n"
     ]
    }
   ],
   "source": [
    "chars = 'qwertyuiopasdfghjklzxcvbnm ?!.,:;01'\n",
    "char_list = [i for i in chars]\n",
    "n_char_list = len(char_list)\n",
    "\n",
    "#문자열을 원핫 배열로\n",
    "def string_to_onehot(string):\n",
    "    #base\n",
    "    onehot_base = np.zeros(n_char_list+2)\n",
    "\n",
    "    #start\n",
    "    start = np.copy(onehot_base)\n",
    "    start[-2] = 1\n",
    "    result = start \n",
    "    \n",
    "    #string\n",
    "    for i in string:\n",
    "        onehot = np.copy(onehot_base)\n",
    "        index = char_list.index(i)\n",
    "        onehot[index] = 1\n",
    "        result = np.vstack([result,onehot])\n",
    "\n",
    "    #end\n",
    "    end = np.copy(onehot_base)\n",
    "    end[-1] = 1\n",
    "    result = np.vstack([result,end])\n",
    "    return result\n",
    "\n",
    "#원핫을 알파벳으로\n",
    "def onehot_to_alph(onehot):\n",
    "    #change type\n",
    "    try:\n",
    "        onehot = torch.Tensor.numpy(onehot)\n",
    "    except:\n",
    "        pass\n",
    "\n",
    "    try:\n",
    "        return char_list[onehot.argmax()]\n",
    "    except:\n",
    "        pass\n",
    "\n",
    "\n",
    "#test\n",
    "test = string_to_onehot('abc')\n",
    "print(test[2])\n",
    "print(onehot_to_alph(test[2]))\n",
    "\n"
   ]
  },
  {
   "cell_type": "code",
   "execution_count": 100,
   "metadata": {},
   "outputs": [],
   "source": [
    "#학습 정보\n",
    "n_hidden = 35\n",
    "lr = 0.05\n",
    "epoch = 80\n",
    "\n",
    "string = \"hello pytorch. how long can a rnn cell remember?\""
   ]
  },
  {
   "cell_type": "code",
   "execution_count": 101,
   "metadata": {},
   "outputs": [],
   "source": [
    "#간단한 버전 모델\n",
    "class RNN(nn.Module):\n",
    "    def __init__(self,input_size,output_size,hidden_size):\n",
    "        super().__init__()\n",
    "\n",
    "        #입력값 저장\n",
    "        self.input_size = input_size\n",
    "        self.output_size = output_size\n",
    "        self.hidden_size = hidden_size\n",
    "\n",
    "        #레이어 선언\n",
    "        self.i2h = nn.Linear(input_size,hidden_size)\n",
    "        self.h2h = nn.Linear(hidden_size,hidden_size)\n",
    "        self.i2o = nn.Linear(hidden_size,output_size)\n",
    "        self.activ_func = nn.Tanh()\n",
    "\n",
    "    def forward(self,input,hidden):\n",
    "        hidden = self.i2h(input) + self.h2h(hidden)\n",
    "        hidden = self.activ_func(hidden)\n",
    "        output = self.i2o(hidden)\n",
    "        return output, hidden\n",
    "\n",
    "    def init_hidden(self): #시퀀스 처음에 히든레이어를 0으로 초기화하기 위함\n",
    "        return torch.zeros(1,self.hidden_size)\n",
    "        "
   ]
  },
  {
   "cell_type": "code",
   "execution_count": 102,
   "metadata": {},
   "outputs": [],
   "source": [
    "input_size = n_char_list+2\n",
    "rnn = RNN(input_size, input_size, n_hidden)\n",
    "loss_func = nn.MSELoss()\n",
    "optimizer = optim.Adam(rnn.parameters(),lr = lr)"
   ]
  },
  {
   "cell_type": "code",
   "execution_count": 103,
   "metadata": {},
   "outputs": [
    {
     "name": "stderr",
     "output_type": "stream",
     "text": [
      "100%|██████████| 80/80 [00:00<00:00, 118.72it/s]\n"
     ]
    }
   ],
   "source": [
    "data = torch.tensor(string_to_onehot(string),dtype=torch.float32)\n",
    "loss_array = []\n",
    "\n",
    "for i in tqdm(range(epoch)):\n",
    "    rnn.zero_grad()\n",
    "    total_loss = 0\n",
    "    hidden = rnn.init_hidden()\n",
    "\n",
    "    for j in range(data.shape[0] - 1):\n",
    "        input_ = data[j,...]\n",
    "        target = data[j+1,...]\n",
    "\n",
    "        output,hidden = rnn.forward(input_,hidden)\n",
    "        loss = loss_func(output,target)\n",
    "        total_loss += loss\n",
    "        \n",
    "    total_loss.backward()\n",
    "    optimizer.step()\n",
    "    loss_array.append(total_loss.cpu().detach().numpy())"
   ]
  },
  {
   "cell_type": "code",
   "execution_count": 104,
   "metadata": {},
   "outputs": [
    {
     "name": "stdout",
     "output_type": "stream",
     "text": [
      "0.77621883\n"
     ]
    },
    {
     "data": {
      "image/png": "[encoded data removed]",
      "text/plain": [
       "<Figure size 432x288 with 1 Axes>"
      ]
     },
     "metadata": {
      "needs_background": "light"
     },
     "output_type": "display_data"
    }
   ],
   "source": [
    "#print loss\n",
    "print(loss_array[-1])\n",
    "plt.plot(loss_array)\n",
    "plt.show()"
   ]
  },
  {
   "cell_type": "code",
   "execution_count": 105,
   "metadata": {},
   "outputs": [
    {
     "name": "stdout",
     "output_type": "stream",
     "text": [
      "hehlo oooooooooooooooooooooooo\n"
     ]
    }
   ],
   "source": [
    "onehot_base = np.zeros(n_char_list+2)\n",
    "start = torch.tensor(np.copy(onehot_base),dtype=torch.float32)\n",
    "start[-2] = 1\n",
    "\n",
    "with torch.no_grad():\n",
    "    hidden = rnn.init_hidden()\n",
    "    output_string = \"\"\n",
    "\n",
    "    for i in range(30):\n",
    "        output,hidden = rnn.forward(start,hidden)\n",
    "        output_string += onehot_to_alph(output)\n",
    "    \n",
    "    print(output_string)\n",
    "    "
   ]
  },
  {
   "cell_type": "code",
   "execution_count": null,
   "metadata": {},
   "outputs": [],
   "source": []
  }
 ],
 "metadata": {
  "kernelspec": {
   "display_name": "Python 3.8.10 64-bit",
   "language": "python",
   "name": "python3"
  },
  "language_info": {
   "codemirror_mode": {
    "name": "ipython",
    "version": 3
   },
   "file_extension": ".py",
   "mimetype": "text/x-python",
   "name": "python",
   "nbconvert_exporter": "python",
   "pygments_lexer": "ipython3",
   "version": "3.8.10"
  },
  "orig_nbformat": 4,
  "vscode": {
   "interpreter": {
    "hash": "916dbcbb3f70747c44a77c7bcd40155683ae19c65e1c03b4aa3499c5328201f1"
   }
  }
 },
 "nbformat": 4,
 "nbformat_minor": 2
}
